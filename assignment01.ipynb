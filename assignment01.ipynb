{
 "cells": [
  {
   "cell_type": "code",
   "execution_count": null,
   "id": "b5d1cee1",
   "metadata": {},
   "outputs": [],
   "source": [
    "#1. In the below elements which of them are values or an expression? eg:- values can be\n",
    "#integer or string and expressions will be mathematical operators.\n",
    "*\n",
    "#hello\n",
    "#39;\n",
    "-87.8\n",
    "-\n",
    "/\n",
    "+\n",
    "6\n",
    "\n",
    "#ANS-\n",
    "\n",
    "#VALUES- hello,39,-87.8,6\n",
    "# EXPRESSIONS- *,-,/,+"
   ]
  },
  {
   "cell_type": "code",
   "execution_count": 2,
   "id": "301e024b",
   "metadata": {},
   "outputs": [
    {
     "name": "stdout",
     "output_type": "stream",
     "text": [
      "100\n",
      "My name is sofya alim\n"
     ]
    }
   ],
   "source": [
    "#2. What is the difference between string and variable?\n",
    "\n",
    "#ANS-\n",
    "\n",
    "#STRING- any text enclose within single or double inverted colons is called a string.\n",
    "#Example-\n",
    "\"This is my first assignment\"\n",
    "\n",
    "#VARIABLE- is any alphabet which we assign to the program to consider it and can reassign the same variable with other data and redeclare it again.\n",
    "#Example-\n",
    "\n",
    "a='100'\n",
    "print(a)\n",
    "\n",
    "#or\n",
    "\n",
    "a='My name is sofya alim'\n",
    "print(a)"
   ]
  },
  {
   "cell_type": "code",
   "execution_count": null,
   "id": "59076927",
   "metadata": {},
   "outputs": [],
   "source": [
    "#3. Describe three different data types.\n",
    "\n",
    "#ANS-\n",
    "\n",
    "#i) INTEGERS: are whole numbers.Example:13258\n",
    "#ii) FLOATS: are decimal numbers.Example: 562.32\n",
    "#iii) LIST: a collection of data between[]. Example:[7,8,9,6,5,['name'],23]"
   ]
  },
  {
   "cell_type": "code",
   "execution_count": 4,
   "id": "533fe14f",
   "metadata": {},
   "outputs": [
    {
     "name": "stdout",
     "output_type": "stream",
     "text": [
      "4\n"
     ]
    }
   ],
   "source": [
    "#4. What is an expression made up of? What do all expressions do?\n",
    "\n",
    "#ANS-\n",
    "\n",
    "#An expression is made up of values,containers and mathematical \n",
    "operators\n",
    "# An expression is actually an instruction given which combines values and operators to give a meaningful result.\n",
    "##for example-\n",
    "\n",
    "l=2+2\n",
    "print(l)\n",
    "\n",
    "#here 2 is value, + is operator and 4 is result\n"
   ]
  },
  {
   "cell_type": "code",
   "execution_count": 10,
   "id": "04559795",
   "metadata": {},
   "outputs": [],
   "source": [
    "#5. This assignment statements, like spam = 10. What is the difference between an\n",
    "#expression and a statement?\n",
    "\n",
    "#ANS-\n",
    "\n",
    "#an EXPRESSION always gives a result, like the above example which I have mention an expression always need a value and an operator like +,-,*,/,etc\n",
    "## a statement creates or displays a value,it only does whatever the statement says.For Example: print, or here given\n",
    "\n",
    "spam=10\n",
    "#is a statement as there is no operator given it just states a value in spam.\n",
    "\n"
   ]
  },
  {
   "cell_type": "code",
   "execution_count": 16,
   "id": "a7cc8a7a",
   "metadata": {},
   "outputs": [
    {
     "data": {
      "text/plain": [
       "23"
      ]
     },
     "execution_count": 16,
     "metadata": {},
     "output_type": "execute_result"
    }
   ],
   "source": [
    "#6. After running the following code, what does the variable bacon contain?\n",
    "bacon = 22\n",
    "bacon + 1\n",
    "\n",
    "# ans- After running the code the variable bacon contain 23."
   ]
  },
  {
   "cell_type": "code",
   "execution_count": 17,
   "id": "19096270",
   "metadata": {},
   "outputs": [
    {
     "data": {
      "text/plain": [
       "'spamspamspam'"
      ]
     },
     "execution_count": 17,
     "metadata": {},
     "output_type": "execute_result"
    }
   ],
   "source": [
    "#7. What should the values of the following two terms be?\n",
    "'spam'+'spamspam'\n",
    "'spam'*3\n",
    "\n",
    "# ans- The values of both the terms is same. As both will perform the same operation i.e. give spam three times."
   ]
  },
  {
   "cell_type": "code",
   "execution_count": 18,
   "id": "83d6510e",
   "metadata": {},
   "outputs": [
    {
     "data": {
      "text/plain": [
       "'spamspamspam'"
      ]
     },
     "execution_count": 18,
     "metadata": {},
     "output_type": "execute_result"
    }
   ],
   "source": [
    "'spam'+'spamspam'"
   ]
  },
  {
   "cell_type": "code",
   "execution_count": 19,
   "id": "7692f79c",
   "metadata": {},
   "outputs": [
    {
     "data": {
      "text/plain": [
       "'spamspamspam'"
      ]
     },
     "execution_count": 19,
     "metadata": {},
     "output_type": "execute_result"
    }
   ],
   "source": [
    "'spam'*3"
   ]
  },
  {
   "cell_type": "code",
   "execution_count": null,
   "id": "67c37896",
   "metadata": {},
   "outputs": [],
   "source": [
    "#8. Why is eggs a valid variable name while 100 is invalid?\n",
    "\n",
    "#ans- because we cannot start giving a variable an integer name.To correct it we must begin with an alphabet name like a100 or egg100."
   ]
  },
  {
   "cell_type": "code",
   "execution_count": null,
   "id": "77f8b5cf",
   "metadata": {},
   "outputs": [],
   "source": [
    "#9. What three functions can be used to get the integer, floating-point number, or string\n",
    "#version of a value?\n",
    "\n",
    "# ans- int(),float(),str()"
   ]
  },
  {
   "cell_type": "code",
   "execution_count": null,
   "id": "a51abe58",
   "metadata": {},
   "outputs": [],
   "source": [
    "#10. Why does this expression cause an error? How can you fix it?\n",
    "#'I have eaten' + 99 + 'burritos'\n",
    "\n",
    "#ANS-\n",
    "\n",
    "#An error is caused because 99 is an integer it cannot be concatenated with strings,if we want to concatenate it we need to do typecasting."
   ]
  }
 ],
 "metadata": {
  "kernelspec": {
   "display_name": "Python 3 (ipykernel)",
   "language": "python",
   "name": "python3"
  },
  "language_info": {
   "codemirror_mode": {
    "name": "ipython",
    "version": 3
   },
   "file_extension": ".py",
   "mimetype": "text/x-python",
   "name": "python",
   "nbconvert_exporter": "python",
   "pygments_lexer": "ipython3",
   "version": "3.9.7"
  }
 },
 "nbformat": 4,
 "nbformat_minor": 5
}
